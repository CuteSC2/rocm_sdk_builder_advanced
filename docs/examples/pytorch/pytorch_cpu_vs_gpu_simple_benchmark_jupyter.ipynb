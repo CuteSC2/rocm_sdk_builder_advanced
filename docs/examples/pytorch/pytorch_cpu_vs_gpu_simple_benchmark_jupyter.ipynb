{
 "cells": [
  {
   "cell_type": "code",
   "execution_count": 1,
   "id": "1bb591d8-cab1-4a73-91f5-54404905fafd",
   "metadata": {},
   "outputs": [
    {
     "name": "stdout",
     "output_type": "stream",
     "text": [
      "Benchmarking CPU and GPUs\n",
      "Pytorch version: 2.4.1-rc1\n",
      "ROCM HIP version: 6.1.40093-8099c494c\n",
      "       Device: cpu-16\n",
      "    'CPU time: 24.362 sec\n",
      "       Device: AMD Radeon RX 7700S\n",
      "    'GPU time: 0.183 sec\n",
      "       Device: AMD Radeon 780M\n",
      "    'GPU time: 0.203 sec\n",
      "\n",
      "Benchmark ready\n",
      "\n"
     ]
    }
   ],
   "source": [
    "import torch\n",
    "import time\n",
    "import os\n",
    "\n",
    "###CPU\n",
    "device = torch.device('cpu')\n",
    "mat_sz_x=200\n",
    "mat_sz_y=200\n",
    "loop_count=1200\n",
    "\n",
    "print(\"Benchmarking CPU and GPUs\")\n",
    "print(\"Pytorch version: \" + torch.__version__)\n",
    "print(\"ROCM HIP version: \" + torch.version.hip)\n",
    "\n",
    "msg_prefix=\"Device: \"\n",
    "msg_prefix=msg_prefix.rjust(15)\n",
    "print(msg_prefix + \"cpu-\" + str(os.cpu_count()))\n",
    "\n",
    "start_time = time.time()\n",
    "a = torch.ones(mat_sz_x, mat_sz_y)\n",
    "b = torch.ones(mat_sz_x, mat_sz_y)\n",
    "for _ in range(loop_count):\n",
    "    a = torch.matmul(a, a+b)\n",
    "elapsed_time = time.time() - start_time\n",
    "msg_number=\"{:.3f}\".format(elapsed_time)\n",
    "msg_prefix=\"'CPU time: \"\n",
    "msg_prefix=msg_prefix.rjust(15)\n",
    "print(f\"{msg_prefix}{msg_number} sec\")\n",
    "\n",
    "###GPUs\n",
    "gpu_count=torch.cuda.device_count()\n",
    "for ii in range(0, gpu_count):\n",
    "    cuda_device = torch.device('cuda:' + str(ii))\n",
    "    torch.cuda.set_device(cuda_device)\n",
    "    msg_prefix=\"Device: \"\n",
    "    msg_prefix=msg_prefix.rjust(15)\n",
    "    print(msg_prefix + torch.cuda.get_device_name(ii))\n",
    "    start_time = time.time()\n",
    "    a = torch.ones(mat_sz_x, mat_sz_y, device=cuda_device)\n",
    "    b = torch.ones(mat_sz_x, mat_sz_y, device=cuda_device)\n",
    "    for _ in range(loop_count):\n",
    "        a = torch.matmul(a, a+b)\n",
    "    elapsed_time = time.time() - start_time\n",
    "    msg_number=\"{:.3f}\".format(elapsed_time)\n",
    "    msg_prefix=\"'GPU time: \"\n",
    "    msg_prefix=msg_prefix.rjust(15)\n",
    "    print(f\"{msg_prefix}{msg_number} sec\")\n",
    "print(\"Benchmark ready\\n\")\n"
   ]
  },
  {
   "cell_type": "code",
   "execution_count": null,
   "id": "127e7906-4f25-4c81-aa90-2b54deab5d06",
   "metadata": {},
   "outputs": [],
   "source": []
  },
  {
   "cell_type": "code",
   "execution_count": null,
   "id": "f70294e6-bb14-42cf-9640-b3fc4cc3d002",
   "metadata": {},
   "outputs": [],
   "source": []
  }
 ],
 "metadata": {
  "kernelspec": {
   "display_name": "Python 3 (ipykernel)",
   "language": "python",
   "name": "python3"
  },
  "language_info": {
   "codemirror_mode": {
    "name": "ipython",
    "version": 3
   },
   "file_extension": ".py",
   "mimetype": "text/x-python",
   "name": "python",
   "nbconvert_exporter": "python",
   "pygments_lexer": "ipython3",
   "version": "3.11.9"
  }
 },
 "nbformat": 4,
 "nbformat_minor": 5
}
