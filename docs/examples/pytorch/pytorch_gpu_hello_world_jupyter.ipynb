{
 "cells": [
  {
   "cell_type": "code",
   "execution_count": 1,
   "id": "14b4ee7c-2cdb-4ea2-bde5-ffb31d8ac236",
   "metadata": {},
   "outputs": [
    {
     "name": "stdout",
     "output_type": "stream",
     "text": [
      "pytorch version: 2.4.1-rc1\n"
     ]
    }
   ],
   "source": [
    "import torch\n",
    "print(\"pytorch version: \" + torch.__version__)"
   ]
  },
  {
   "cell_type": "code",
   "execution_count": 3,
   "id": "e8791598-f76a-427c-ba7e-e86802c09ef5",
   "metadata": {},
   "outputs": [
    {
     "name": "stdout",
     "output_type": "stream",
     "text": [
      "ROCM HIP version: 6.1.40093-8099c494c\n"
     ]
    }
   ],
   "source": [
    "print(\"ROCM HIP version: \" + torch.version.hip)"
   ]
  },
  {
   "cell_type": "code",
   "execution_count": 4,
   "id": "a02fa2c1-936c-4eb5-b1aa-912e2c08280d",
   "metadata": {},
   "outputs": [
    {
     "name": "stdout",
     "output_type": "stream",
     "text": [
      "cuda device count: 2\n"
     ]
    }
   ],
   "source": [
    "X_train = torch.FloatTensor([0., 1., 2.])\n",
    "print(\"cuda device count: \" + str(torch.cuda.device_count()))"
   ]
  },
  {
   "cell_type": "code",
   "execution_count": 6,
   "id": "7118c6e7-11ac-4321-8d2a-dfd096ba7844",
   "metadata": {},
   "outputs": [
    {
     "name": "stdout",
     "output_type": "stream",
     "text": [
      "cuda device name: AMD Radeon RX 7700S\n"
     ]
    }
   ],
   "source": [
    "print(\"cuda device name: \" + torch.cuda.get_device_name(0))"
   ]
  },
  {
   "cell_type": "code",
   "execution_count": 8,
   "id": "aed19458-853e-4e19-89b4-de1a3a6f7dbc",
   "metadata": {},
   "outputs": [
    {
     "name": "stdout",
     "output_type": "stream",
     "text": [
      "device type: cuda\n"
     ]
    }
   ],
   "source": [
    "device = torch.device('cuda' if torch.cuda.is_available() else 'cpu')\n",
    "print(\"device type: \" + str(device))"
   ]
  },
  {
   "cell_type": "code",
   "execution_count": 9,
   "id": "b92ae5cc-53e3-440b-8a90-2ac21d8efaa9",
   "metadata": {},
   "outputs": [
    {
     "name": "stdout",
     "output_type": "stream",
     "text": [
      "Tensor training running on cuda: True\n"
     ]
    }
   ],
   "source": [
    "X_train = X_train.to(device)\n",
    "print(\"Tensor training running on cuda: \" + str(X_train.is_cuda))"
   ]
  },
  {
   "cell_type": "code",
   "execution_count": 10,
   "id": "82aff73e-081e-4008-b11a-49be1235c7bb",
   "metadata": {},
   "outputs": [
    {
     "name": "stdout",
     "output_type": "stream",
     "text": [
      "running simple model training test\n",
      "tensor([0., 1., 2.], device='cuda:0')\n"
     ]
    }
   ],
   "source": [
    "print(\"running simple model training test\")\n",
    "print(str(X_train))"
   ]
  },
  {
   "cell_type": "code",
   "execution_count": null,
   "id": "ae54b2b6-8b3c-46e1-b095-a55d414ec065",
   "metadata": {},
   "outputs": [],
   "source": []
  }
 ],
 "metadata": {
  "kernelspec": {
   "display_name": "Python 3 (ipykernel)",
   "language": "python",
   "name": "python3"
  },
  "language_info": {
   "codemirror_mode": {
    "name": "ipython",
    "version": 3
   },
   "file_extension": ".py",
   "mimetype": "text/x-python",
   "name": "python",
   "nbconvert_exporter": "python",
   "pygments_lexer": "ipython3",
   "version": "3.11.9"
  }
 },
 "nbformat": 4,
 "nbformat_minor": 5
}
