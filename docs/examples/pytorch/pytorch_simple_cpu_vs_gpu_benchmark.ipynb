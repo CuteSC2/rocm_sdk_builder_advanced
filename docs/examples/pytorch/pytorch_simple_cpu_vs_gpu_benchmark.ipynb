{
 "cells": [
  {
   "cell_type": "code",
   "execution_count": 1,
   "id": "1bb591d8-cab1-4a73-91f5-54404905fafd",
   "metadata": {},
   "outputs": [
    {
     "name": "stdout",
     "output_type": "stream",
     "text": [
      "CPU time =  16.281087636947632\n",
      "GPU time =  6.900170803070068\n"
     ]
    }
   ],
   "source": [
    "import torch\n",
    "import time\n",
    "\n",
    "###CPU\n",
    "mat_sz_x=1000\n",
    "mat_sz_y=1000\n",
    "start_time = time.time()\n",
    "a = torch.ones(mat_sz_x, mat_sz_y)\n",
    "for _ in range(1000000):\n",
    "    a += a\n",
    "elapsed_time = time.time() - start_time\n",
    "\n",
    "print('CPU time = ',elapsed_time)\n",
    "\n",
    "###GPU\n",
    "start_time = time.time()\n",
    "b = torch.ones(mat_sz_x, mat_sz_y).cuda()\n",
    "for _ in range(1000000):\n",
    "    b += b\n",
    "elapsed_time = time.time() - start_time\n",
    "\n",
    "print('GPU time = ',elapsed_time)"
   ]
  },
  {
   "cell_type": "code",
   "execution_count": null,
   "id": "127e7906-4f25-4c81-aa90-2b54deab5d06",
   "metadata": {},
   "outputs": [],
   "source": []
  },
  {
   "cell_type": "code",
   "execution_count": null,
   "id": "f70294e6-bb14-42cf-9640-b3fc4cc3d002",
   "metadata": {},
   "outputs": [],
   "source": []
  }
 ],
 "metadata": {
  "kernelspec": {
   "display_name": "Python 3 (ipykernel)",
   "language": "python",
   "name": "python3"
  },
  "language_info": {
   "codemirror_mode": {
    "name": "ipython",
    "version": 3
   },
   "file_extension": ".py",
   "mimetype": "text/x-python",
   "name": "python",
   "nbconvert_exporter": "python",
   "pygments_lexer": "ipython3",
   "version": "3.9.18"
  }
 },
 "nbformat": 4,
 "nbformat_minor": 5
}
